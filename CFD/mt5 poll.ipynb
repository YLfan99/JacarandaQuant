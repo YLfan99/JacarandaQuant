{
 "cells": [
  {
   "cell_type": "code",
   "execution_count": 1,
   "metadata": {},
   "outputs": [
    {
     "name": "stdout",
     "output_type": "stream",
     "text": [
      "TerminalInfo(community_account=False, community_connection=False, connected=True, dlls_allowed=False, trade_allowed=True, tradeapi_disabled=False, email_enabled=False, ftp_enabled=False, notifications_enabled=False, mqid=True, build=4330, maxbars=100000000, codepage=936, ping_last=106955, community_balance=0.0, retransmission=0.0, company='Bacera Co Pty Ltd', name='BCR MT5', language='Chinese (Simplified)', path='C:\\\\Program Files\\\\BCR MT5', data_path='C:\\\\Users\\\\YLfan\\\\AppData\\\\Roaming\\\\MetaQuotes\\\\Terminal\\\\ACB9E6E50A3004D5DCBF6CD96E6D7AC5', commondata_path='C:\\\\Users\\\\YLfan\\\\AppData\\\\Roaming\\\\MetaQuotes\\\\Terminal\\\\Common')\n"
     ]
    }
   ],
   "source": [
    "import MetaTrader5 as mt5\n",
    "from datetime import datetime\n",
    "from MyTT import *\n",
    "import pandas as pd\n",
    "import numpy as np\n",
    "import pickle\n",
    "import time\n",
    "import lightgbm as lgb\n",
    "import sklearn\n",
    "import sys\n",
    "if not mt5.initialize(login=66985382, server=\"BCR-MT5\", password=\"0MxYfHq!\"):\n",
    "    print(\"initialize() failed\")\n",
    "    mt5.shutdown()\n",
    "\n",
    "print(mt5.terminal_info())\n",
    "\n",
    "def log_diff(df):\n",
    "    df.replace(0, 0.01, inplace=True)\n",
    "    diffdf = np.log(df).loc[1:,:] - np.log(df.shift(1)).loc[1:,:]\n",
    "    return diffdf\n",
    "\n",
    "def minicut(df, train_period=5, pred_period=1):\n",
    "    '''\n",
    "    train_period: 用于训练的数据长度，默认前5个交易日\n",
    "    pred_period: 预测几日后的结果，默认第二天\n",
    "    '''\n",
    "    n_features = df.shape[1]\n",
    "    roll = pd.concat([df.shift(i) for i in range(pred_period,pred_period+train_period-1)], axis=1)\n",
    "    roll = pd.concat([df, roll], axis=1).dropna()\n",
    "    return roll.iloc[-1:,:]"
   ]
  },
  {
   "cell_type": "code",
   "execution_count": 2,
   "metadata": {},
   "outputs": [
    {
     "data": {
      "text/plain": [
       "{'login': 66985382,\n",
       " 'trade_mode': 0,\n",
       " 'leverage': 200,\n",
       " 'limit_orders': 200,\n",
       " 'margin_so_mode': 0,\n",
       " 'trade_allowed': True,\n",
       " 'trade_expert': True,\n",
       " 'margin_mode': 2,\n",
       " 'currency_digits': 2,\n",
       " 'fifo_close': False,\n",
       " 'balance': 14690.85,\n",
       " 'credit': 0.0,\n",
       " 'profit': 0.0,\n",
       " 'equity': 14690.85,\n",
       " 'margin': 0.0,\n",
       " 'margin_free': 14690.85,\n",
       " 'margin_level': 0.0,\n",
       " 'margin_so_call': 150.0,\n",
       " 'margin_so_so': 50.0,\n",
       " 'margin_initial': 0.0,\n",
       " 'margin_maintenance': 0.0,\n",
       " 'assets': 0.0,\n",
       " 'liabilities': 0.0,\n",
       " 'commission_blocked': 0.0,\n",
       " 'name': 'Xu YuFan',\n",
       " 'server': 'BCR-MT5',\n",
       " 'currency': 'USD',\n",
       " 'company': 'Bacera Co Pty Ltd'}"
      ]
     },
     "execution_count": 2,
     "metadata": {},
     "output_type": "execute_result"
    }
   ],
   "source": [
    "mt5.account_info()._asdict()"
   ]
  },
  {
   "cell_type": "markdown",
   "metadata": {},
   "source": [
    "# Demo"
   ]
  },
  {
   "cell_type": "code",
   "execution_count": 5,
   "metadata": {},
   "outputs": [
    {
     "name": "stdout",
     "output_type": "stream",
     "text": [
      "Tue Jun  4 02:56:50 2024 -4.770970514179628 478965 sell 0.4 \n",
      "Tue Jun  4 02:59:59 2024 -0.7287991196269771 \n",
      "Tue Jun  4 03:04:59 2024 -2.132888824574186 \n",
      "Tue Jun  4 03:09:59 2024 -3.4032432455211032 479134 sell 0.4 \n",
      "Tue Jun  4 03:14:59 2024 3.144949109314954 479160 buy 0.4 \n",
      "Tue Jun  4 03:19:59 2024 -4.787030342103814 479174 sell 0.4 \n",
      "Tue Jun  4 03:24:59 2024 0.6642882918272973 \n",
      "Tue Jun  4 03:29:59 2024 1.9489695329077956 \n",
      "Tue Jun  4 03:35:01 2024 -0.3469866413929878 \n",
      "Tue Jun  4 03:40:00 2024 -1.9932667646405107 \n",
      "Tue Jun  4 03:45:07 2024 -4.915229738915449 479253 sell 0.4 \n",
      "Tue Jun  4 03:50:05 2024 -6.724700201491405 479283 sell 0.4 \n",
      "Tue Jun  4 03:54:59 2024 -3.7009515507158133 479324 sell 0.4 \n",
      "Tue Jun  4 03:59:59 2024 -2.249092573660682 \n",
      "Tue Jun  4 04:05:04 2024 0.9242434710365898 \n",
      "Tue Jun  4 04:09:59 2024 -1.813070960312579 \n",
      "Tue Jun  4 04:14:59 2024 -1.237351810479126 \n",
      "Tue Jun  4 04:19:59 2024 -5.769453167694393 479345 sell 0.4 \n",
      "Tue Jun  4 04:24:59 2024 -4.455140839469961 479352 sell 0.4 \n",
      "Tue Jun  4 04:29:58 2024 -6.543296279893917 479362 sell 0.4 \n",
      "Tue Jun  4 04:34:59 2024 -5.238370439040184 479371 sell 0.4 \n",
      "Tue Jun  4 04:39:59 2024 -2.2104738956185694 \n",
      "Tue Jun  4 04:44:58 2024 0.33459066914431895 \n",
      "Tue Jun  4 04:50:00 2024 -3.443975792756237 479390 sell 0.4 \n",
      "Tue Jun  4 04:54:59 2024 -7.7342287933768175 479397 sell 0.4 \n",
      "Tue Jun  4 04:59:59 2024 -5.3279141678153055 479404 sell 0.4 \n",
      "Tue Jun  4 05:04:59 2024 -3.9849883980547225 479421 sell 0.4 \n",
      "Tue Jun  4 15:00:41 2024 2.080742844083882 \n",
      "Tue Jun  4 15:04:59 2024 -0.7112775926110259 \n"
     ]
    },
    {
     "ename": "AttributeError",
     "evalue": "'NoneType' object has no attribute '_asdict'",
     "output_type": "error",
     "traceback": [
      "\u001b[1;31m---------------------------------------------------------------------------\u001b[0m",
      "\u001b[1;31mAttributeError\u001b[0m                            Traceback (most recent call last)",
      "Cell \u001b[1;32mIn[5], line 14\u001b[0m\n\u001b[0;32m     11\u001b[0m \u001b[38;5;28;01mtry\u001b[39;00m:\n\u001b[0;32m     12\u001b[0m     \u001b[38;5;28;01mwhile\u001b[39;00m \u001b[38;5;28;01mTrue\u001b[39;00m:\n\u001b[0;32m     13\u001b[0m         \u001b[38;5;66;03m# 检测持仓\u001b[39;00m\n\u001b[1;32m---> 14\u001b[0m         accInfo \u001b[38;5;241m=\u001b[39m \u001b[43mmt5\u001b[49m\u001b[38;5;241;43m.\u001b[39;49m\u001b[43maccount_info\u001b[49m\u001b[43m(\u001b[49m\u001b[43m)\u001b[49m\u001b[38;5;241;43m.\u001b[39;49m\u001b[43m_asdict\u001b[49m()\n\u001b[0;32m     16\u001b[0m         \u001b[38;5;28;01mif\u001b[39;00m accInfo[\u001b[38;5;124m'\u001b[39m\u001b[38;5;124mequity\u001b[39m\u001b[38;5;124m'\u001b[39m]\u001b[38;5;241m/\u001b[39mmaximum \u001b[38;5;241m<\u001b[39m \u001b[38;5;241m0.9\u001b[39m: \u001b[38;5;66;03m#回撤10%，强制平仓\u001b[39;00m\n\u001b[0;32m     17\u001b[0m             \u001b[38;5;28;01mfor\u001b[39;00m position \u001b[38;5;129;01min\u001b[39;00m mt5\u001b[38;5;241m.\u001b[39mpositions_get():\n",
      "\u001b[1;31mAttributeError\u001b[0m: 'NoneType' object has no attribute '_asdict'"
     ]
    }
   ],
   "source": [
    "maximum = 1\n",
    "lot = 0.4\n",
    "emphsize = 3.3\n",
    "deviation = 10\n",
    "tick_time = 0\n",
    "symbol = \"EURUSD\"\n",
    "timeframe = mt5.TIMEFRAME_M5\n",
    "point = mt5.symbol_info(symbol).point\n",
    "model = pickle.load(open('model/EURUSD_M5_10_1.pickle', 'rb')).booster_\n",
    "\n",
    "try:\n",
    "    while True:\n",
    "        # 检测持仓\n",
    "        accInfo = mt5.account_info()._asdict()\n",
    "\n",
    "        if accInfo['equity']/maximum < 0.9: #回撤10%，强制平仓\n",
    "            for position in mt5.positions_get():\n",
    "                position = position._asdict()\n",
    "                mt5.Close(position['ticket'])\n",
    "            sys.exit(1)\n",
    "        else:\n",
    "            maximum = max(accInfo['equity'], maximum)\n",
    "\n",
    "        LastBars = mt5.copy_rates_from_pos(symbol, timeframe, 0, 100)\n",
    "        if LastBars[-1][0] > tick_time:\n",
    "            tick_time = LastBars[-1][0]\n",
    "            if accInfo['margin_free'] > accInfo['balance'] * 0.6: # margin超过balance六成，可以下单\n",
    "                x = pd.DataFrame(LastBars).iloc[:-1,[1,2,3,4,5]]\n",
    "                x['MA5'] = MA(x['close'], 5)\n",
    "                x['MA15'] = MA(x['close'], 15)\n",
    "                x['MA30'] = MA(x['close'], 30)\n",
    "                x['MA60'] = MA(x['close'], 60)\n",
    "                x['vMA5'] = MA(x['tick_volume'], 5)\n",
    "                x['vMA15'] = MA(x['tick_volume'], 15)\n",
    "                x['vMA30'] = MA(x['tick_volume'], 30)\n",
    "                x['vMA60'] = MA(x['tick_volume'], 60)\n",
    "                X = np.ascontiguousarray(minicut(log_diff(x),10,1))\n",
    "                pchg = (np.exp(model.predict(X)[0])-1) * emphsize / point\n",
    "                print(time.ctime(), pchg, end=' ')\n",
    "                sl = round(LastBars[-2][-4]*(1-10*pchg*point), 5)\n",
    "                tp = round(LastBars[-2][-4]*(1+5*pchg*point), 5)\n",
    "                LastTick = mt5.symbol_info_tick(symbol)\n",
    "                if  pchg > 1 and tp > LastTick.ask:\n",
    "                    request = {\n",
    "                        \"action\": mt5.TRADE_ACTION_DEAL,\n",
    "                        \"symbol\": symbol,\n",
    "                        \"volume\": lot,\n",
    "                        \"type\": mt5.ORDER_TYPE_BUY,\n",
    "                        \"price\": LastTick.ask,\n",
    "                        \"sl\": sl,\n",
    "                        \"tp\": tp,\n",
    "                        \"deviation\": deviation,\n",
    "                        \"magic\": 224700,\n",
    "                        \"type_time\": mt5.ORDER_TIME_GTC,\n",
    "                        \"type_filling\": mt5.ORDER_FILLING_FOK,\n",
    "                    }\n",
    "                    result = mt5.order_send(request)\n",
    "                    if result.retcode == mt5.TRADE_RETCODE_DONE:\n",
    "                        print(result.order, 'buy', lot, end=' ')\n",
    "                elif pchg < -1 and tp < LastTick.bid:\n",
    "                    request = {\n",
    "                        \"action\": mt5.TRADE_ACTION_DEAL,\n",
    "                        \"symbol\": symbol,\n",
    "                        \"volume\": lot,\n",
    "                        \"type\": mt5.ORDER_TYPE_SELL,\n",
    "                        \"price\": LastTick.bid,\n",
    "                        \"sl\": sl,\n",
    "                        \"tp\": tp,\n",
    "                        \"deviation\": deviation,\n",
    "                        \"magic\": 224700,\n",
    "                        \"type_time\": mt5.ORDER_TIME_GTC,\n",
    "                        \"type_filling\": mt5.ORDER_FILLING_FOK,\n",
    "                    }\n",
    "                    result = mt5.order_send(request)\n",
    "                    if result.retcode == mt5.TRADE_RETCODE_DONE:\n",
    "                        print(result.order, 'sell', lot, end=' ')\n",
    "                print()\n",
    "except SystemExit:\n",
    "    for position in mt5.positions_get():\n",
    "        position = position._asdict()\n",
    "        mt5.Close(position['symbol'], ticket=position['ticket'])\n",
    "    print('清仓')"
   ]
  }
 ],
 "metadata": {
  "kernelspec": {
   "display_name": "base",
   "language": "python",
   "name": "python3"
  },
  "language_info": {
   "codemirror_mode": {
    "name": "ipython",
    "version": 3
   },
   "file_extension": ".py",
   "mimetype": "text/x-python",
   "name": "python",
   "nbconvert_exporter": "python",
   "pygments_lexer": "ipython3",
   "version": "3.10.10"
  },
  "orig_nbformat": 4
 },
 "nbformat": 4,
 "nbformat_minor": 2
}
