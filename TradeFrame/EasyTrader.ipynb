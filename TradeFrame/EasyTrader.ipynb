{
 "cells": [
  {
   "cell_type": "markdown",
   "metadata": {},
   "source": [
    "## Check and import module"
   ]
  },
  {
   "cell_type": "code",
   "execution_count": 2,
   "metadata": {},
   "outputs": [],
   "source": [
    "try:\n",
    "    import easytrader\n",
    "except:\n",
    "    !pip install easytrader"
   ]
  },
  {
   "cell_type": "code",
   "execution_count": 4,
   "metadata": {},
   "outputs": [
    {
     "name": "stderr",
     "output_type": "stream",
     "text": [
      "c:\\ProgramData\\Miniconda3\\lib\\site-packages\\pywinauto\\application.py:1062: UserWarning: 32-bit application should be automated using 32-bit Python (you use 64-bit Python)\n",
      "  warnings.warn(\n",
      "c:\\ProgramData\\Miniconda3\\lib\\site-packages\\pywinauto\\application.py:1062: UserWarning: 32-bit application should be automated using 32-bit Python (you use 64-bit Python)\n",
      "  warnings.warn(\n"
     ]
    }
   ],
   "source": [
    "user = easytrader.use('htzq_client')        # 海通\n",
    "# user = easytrader.use('ht_client')          # 华泰\n",
    "# user = easytrader.use('gj_client')          # 国金\n",
    "# user = easytrader.use('universal_client')   # 同花顺\n",
    "# user = easytrader.use('xq')                 # 雪球\n",
    "user.prepare(user='#', password='#', comm_password='#', exe_path='C:/e海通财独立交易/AlternateTradeSys5.18.73/xiadan.exe')"
   ]
  },
  {
   "cell_type": "code",
   "execution_count": 19,
   "metadata": {},
   "outputs": [
    {
     "data": {
      "text/plain": [
       "[{'证券代码': '002397',\n",
       "  '证券名称': '梦洁股份',\n",
       "  '股票余额': 100,\n",
       "  '可用余额': 100,\n",
       "  '冻结数量': 0,\n",
       "  '盈亏': -78.0,\n",
       "  '成本价': 5.09,\n",
       "  '盈亏比例(%)': -15.324,\n",
       "  '市价': 4.31,\n",
       "  '市值': 431.0,\n",
       "  '交易市场': '深圳Ａ股',\n",
       "  '股东帐户': 347898741,\n",
       "  '汇率': 1.0,\n",
       "  '成本价港币': 5.09,\n",
       "  '买入成本价港币': 5.09,\n",
       "  '买入在途数量': 0,\n",
       "  '卖出在途数量': 0,\n",
       "  'Unnamed: 17': ''}]"
      ]
     },
     "execution_count": 19,
     "metadata": {},
     "output_type": "execute_result"
    }
   ],
   "source": [
    "# user.balance    # 资金\n",
    "# user.position   # 仓位\n",
    "# user.buy('162411', price=0.55, amount=100)  # 买入\n",
    "# user.sell('002397', price=5, amount=100) # 卖出\n",
    "# user.cancel_entrust('buy/sell 获取的 entrust_no')   # 撤单\n",
    "user.refresh()  # 刷新\n",
    "user.position"
   ]
  },
  {
   "cell_type": "code",
   "execution_count": 22,
   "metadata": {},
   "outputs": [],
   "source": [
    "user = easytrader.use('xq')\n",
    "user.prepare('snowball.json')"
   ]
  },
  {
   "cell_type": "code",
   "execution_count": 25,
   "metadata": {},
   "outputs": [
    {
     "data": {
      "text/plain": [
       "{'cost_price': 1318.9176,\n",
       " 'current_amount': 100,\n",
       " 'enable_amount': 100,\n",
       " 'income_balance': 0,\n",
       " 'keep_cost_price': 1318.9176,\n",
       " 'last_price': 1318.9176,\n",
       " 'market_value': 131891.76,\n",
       " 'position_str': 'random',\n",
       " 'stock_code': 'SZ300086',\n",
       " 'stock_name': '康芝药业'}"
      ]
     },
     "execution_count": 25,
     "metadata": {},
     "output_type": "execute_result"
    }
   ],
   "source": [
    "user.balance"
   ]
  }
 ],
 "metadata": {
  "kernelspec": {
   "display_name": "Python 3.9.7 ('base')",
   "language": "python",
   "name": "python3"
  },
  "language_info": {
   "codemirror_mode": {
    "name": "ipython",
    "version": 3
   },
   "file_extension": ".py",
   "mimetype": "text/x-python",
   "name": "python",
   "nbconvert_exporter": "python",
   "pygments_lexer": "ipython3",
   "version": "3.9.7"
  },
  "orig_nbformat": 4,
  "vscode": {
   "interpreter": {
    "hash": "19d1d53a962d236aa061289c2ac16dc8e6d9648c89fe79f459ae9a3493bc67b4"
   }
  }
 },
 "nbformat": 4,
 "nbformat_minor": 2
}
